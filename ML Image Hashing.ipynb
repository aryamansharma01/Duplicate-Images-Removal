{
 "cells": [
  {
   "cell_type": "code",
   "execution_count": 6,
   "metadata": {},
   "outputs": [],
   "source": [
    "#importing necessary libraries\n",
    "\n",
    "import argparse\n",
    "import time\n",
    "import sys\n",
    "import cv2\n",
    "import os\n",
    "import matplotlib.pyplot as plt"
   ]
  },
  {
   "cell_type": "code",
   "execution_count": 7,
   "metadata": {},
   "outputs": [],
   "source": [
    "#defining difference hash function\n",
    "\n",
    "def dhash(image, hashSize=8):\n",
    "    resized = cv2.resize(image, (hashSize + 1, hashSize))\n",
    "    diff = resized[:, 1:] > resized[:, :-1]\n",
    "    return sum([2 ** i for (i, v) in enumerate(diff.flatten()) if v])\n",
    "\n",
    "#defining repeat function to check for duplicates in a list\n",
    "\n",
    "def Repeat(x): \n",
    "    _size = len(x) \n",
    "    repeated = [] \n",
    "    for i in range(_size): \n",
    "        k = i + 1\n",
    "        for j in range(k, _size): \n",
    "            if x[i] == x[j] and x[i] not in repeated: \n",
    "                repeated.append(x[i]) \n",
    "    return repeated"
   ]
  },
  {
   "cell_type": "code",
   "execution_count": 8,
   "metadata": {},
   "outputs": [],
   "source": [
    "#making a list containing all the hashed image values\n",
    "\n",
    "imageHash=[]\n",
    "import glob\n",
    "\n",
    "#traversing through downloaded dataset and reading images, converting to grayscale and applying dhash function\n",
    "\n",
    "for file in glob.glob(r\"C:\\Users\\aryam\\aug_dogs\\*.jpg\"):\n",
    "    images=cv2.imread(file)\n",
    "    if images is None:\n",
    "        continue\n",
    "    images = cv2.cvtColor(images, cv2.COLOR_BGR2GRAY)\n",
    "    imageHash.append(dhash(images))"
   ]
  },
  {
   "cell_type": "code",
   "execution_count": 9,
   "metadata": {},
   "outputs": [],
   "source": [
    "#sorting all the hashed images, finding duplicates and removing them from the list\n",
    "\n",
    "list2=sorted(imageHash)\n",
    "duplicates = Repeat(list2)\n",
    "final=[]\n",
    "for i in list2:\n",
    "    if i not in duplicates :\n",
    "      final.append(i)\n",
    "\n",
    "#to report the final unique images, we add the duplicates back once\n",
    "\n",
    "for j in duplicates:\n",
    "    final.append(j)\n",
    "\n",
    "final=sorted(final)"
   ]
  },
  {
   "cell_type": "code",
   "execution_count": 11,
   "metadata": {},
   "outputs": [
    {
     "data": {
      "text/plain": [
       "6698"
      ]
     },
     "execution_count": 11,
     "metadata": {},
     "output_type": "execute_result"
    }
   ],
   "source": [
    "#final number of unique images in the dataset\n",
    "\n",
    "len(final)"
   ]
  }
 ],
 "metadata": {
  "kernelspec": {
   "display_name": "Python 3",
   "language": "python",
   "name": "python3"
  },
  "language_info": {
   "codemirror_mode": {
    "name": "ipython",
    "version": 3
   },
   "file_extension": ".py",
   "mimetype": "text/x-python",
   "name": "python",
   "nbconvert_exporter": "python",
   "pygments_lexer": "ipython3",
   "version": "3.8.3"
  }
 },
 "nbformat": 4,
 "nbformat_minor": 4
}
